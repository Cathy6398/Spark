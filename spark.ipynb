{
 "cells": [
  {
   "cell_type": "code",
   "execution_count": 3,
   "metadata": {},
   "outputs": [],
   "source": [
    "from pyspark.sql import SparkSession\n",
    "spark=SparkSession.builder.appName('Read Data').getOrCreate()"
   ]
  },
  {
   "cell_type": "code",
   "execution_count": 4,
   "metadata": {},
   "outputs": [
    {
     "data": {
      "text/plain": [
       "'3.4.1'"
      ]
     },
     "execution_count": 4,
     "metadata": {},
     "output_type": "execute_result"
    }
   ],
   "source": [
    "spark.version"
   ]
  },
  {
   "cell_type": "code",
   "execution_count": 5,
   "metadata": {},
   "outputs": [
    {
     "name": "stdout",
     "output_type": "stream",
     "text": [
      "+-------+--------+------------+-----+--------------------+---------+---------+----------+\n",
      "|case_id|province|        city|group|      infection_case|confirmed| latitude| longitude|\n",
      "+-------+--------+------------+-----+--------------------+---------+---------+----------+\n",
      "|1000001|   Seoul|  Yongsan-gu| TRUE|       Itaewon Clubs|      139|37.538621|126.992652|\n",
      "|1000002|   Seoul|   Gwanak-gu| TRUE|             Richway|      119| 37.48208|126.901384|\n",
      "|1000003|   Seoul|     Guro-gu| TRUE| Guro-gu Call Center|       95|37.508163|126.884387|\n",
      "|1000004|   Seoul|Yangcheon-gu| TRUE|Yangcheon Table T...|       43|37.546061|126.874209|\n",
      "|1000005|   Seoul|   Dobong-gu| TRUE|     Day Care Center|       43|37.679422|127.044374|\n",
      "+-------+--------+------------+-----+--------------------+---------+---------+----------+\n",
      "only showing top 5 rows\n",
      "\n"
     ]
    }
   ],
   "source": [
    "df=spark.read.csv('C:/Users/kirub/OneDrive/Documents/Spark/Case.csv',header=True)\n",
    "df.show(5)"
   ]
  },
  {
   "cell_type": "markdown",
   "metadata": {},
   "source": [
    "1.Read the data, show it and Count the number of records."
   ]
  },
  {
   "cell_type": "code",
   "execution_count": 14,
   "metadata": {},
   "outputs": [
    {
     "name": "stdout",
     "output_type": "stream",
     "text": [
      "174\n"
     ]
    }
   ],
   "source": [
    "Total=df.count()\n",
    "print(Total)"
   ]
  },
  {
   "cell_type": "markdown",
   "metadata": {},
   "source": [
    "2.Describe the data with a describe function."
   ]
  },
  {
   "cell_type": "code",
   "execution_count": 15,
   "metadata": {},
   "outputs": [
    {
     "data": {
      "text/plain": [
       "DataFrame[summary: string, case_id: string, province: string, city: string, group: string, infection_case: string, confirmed: string, latitude: string, longitude: string]"
      ]
     },
     "execution_count": 15,
     "metadata": {},
     "output_type": "execute_result"
    }
   ],
   "source": [
    "df.describe()"
   ]
  },
  {
   "cell_type": "markdown",
   "metadata": {},
   "source": [
    "3.If there is any duplicate value drop it."
   ]
  },
  {
   "cell_type": "code",
   "execution_count": 16,
   "metadata": {},
   "outputs": [
    {
     "name": "stdout",
     "output_type": "stream",
     "text": [
      "+-------+-----------------+---------------+-----+--------------------+---------+---------+----------+\n",
      "|case_id|         province|           city|group|      infection_case|confirmed| latitude| longitude|\n",
      "+-------+-----------------+---------------+-----+--------------------+---------+---------+----------+\n",
      "|1000022|            Seoul|from other city| TRUE|Guri Collective I...|        5|        -|         -|\n",
      "|1100008|            Busan|              -|FALSE|     overseas inflow|       36|        -|         -|\n",
      "|1300002|          Gwangju|from other city| TRUE|  Shincheonji Church|        9|        -|         -|\n",
      "|1500008|          Daejeon|              -|FALSE|     overseas inflow|       15|        -|         -|\n",
      "|2000009|      Gyeonggi-do|              -| TRUE|SMR Newly Planted...|       25|        -|         -|\n",
      "|1500010|          Daejeon|              -|FALSE|                 etc|       15|        -|         -|\n",
      "|7000003|          Jeju-do|              -|FALSE|                 etc|        4|        -|         -|\n",
      "|2000003|      Gyeonggi-do|from other city| TRUE|       Itaewon Clubs|       59|        -|         -|\n",
      "|2000019|      Gyeonggi-do|    Seongnam-si| TRUE|Seongnam neighbor...|        5|        -|         -|\n",
      "|6000011| Gyeongsangbuk-do|              -|FALSE|     overseas inflow|       22|        -|         -|\n",
      "|1000014|            Seoul|     Gangnam-gu| TRUE|Samsung Medical C...|        7| 37.48825| 127.08559|\n",
      "|5100002|     Jeollanam-do|from other city| TRUE|  Shincheonji Church|        1|        -|         -|\n",
      "|1400001|          Incheon|from other city| TRUE|       Itaewon Clubs|       53|        -|         -|\n",
      "|4100002|Chungcheongnam-do|from other city| TRUE|Door-to-door sale...|       10|        -|         -|\n",
      "|7000002|          Jeju-do|              -|FALSE|contact with patient|        0|        -|         -|\n",
      "|1000001|            Seoul|     Yongsan-gu| TRUE|       Itaewon Clubs|      139|37.538621|126.992652|\n",
      "|1700004|           Sejong|              -|FALSE|     overseas inflow|        5|        -|         -|\n",
      "|1200003|            Daegu|         Seo-gu| TRUE|Hansarang Convale...|      124|35.885592|128.556649|\n",
      "|4000004|Chungcheongbuk-do|from other city| TRUE|  Shincheonji Church|        6|        -|         -|\n",
      "|2000008|      Gyeonggi-do|from other city| TRUE|Yangcheon Table T...|       28|        -|         -|\n",
      "+-------+-----------------+---------------+-----+--------------------+---------+---------+----------+\n",
      "only showing top 20 rows\n",
      "\n"
     ]
    }
   ],
   "source": [
    "df.dropDuplicates().show()"
   ]
  },
  {
   "cell_type": "markdown",
   "metadata": {},
   "source": [
    "4.Use limit function for showcasing a limited number ofrecords."
   ]
  },
  {
   "cell_type": "code",
   "execution_count": 18,
   "metadata": {},
   "outputs": [
    {
     "name": "stdout",
     "output_type": "stream",
     "text": [
      "+-------+--------+---------------+-----+--------------------+---------+---------+----------+\n",
      "|case_id|province|           city|group|      infection_case|confirmed| latitude| longitude|\n",
      "+-------+--------+---------------+-----+--------------------+---------+---------+----------+\n",
      "|1000001|   Seoul|     Yongsan-gu| TRUE|       Itaewon Clubs|      139|37.538621|126.992652|\n",
      "|1000002|   Seoul|      Gwanak-gu| TRUE|             Richway|      119| 37.48208|126.901384|\n",
      "|1000003|   Seoul|        Guro-gu| TRUE| Guro-gu Call Center|       95|37.508163|126.884387|\n",
      "|1000004|   Seoul|   Yangcheon-gu| TRUE|Yangcheon Table T...|       43|37.546061|126.874209|\n",
      "|1000005|   Seoul|      Dobong-gu| TRUE|     Day Care Center|       43|37.679422|127.044374|\n",
      "|1000006|   Seoul|        Guro-gu| TRUE|Manmin Central Ch...|       41|37.481059|126.894343|\n",
      "|1000007|   Seoul|from other city| TRUE|SMR Newly Planted...|       36|        -|         -|\n",
      "|1000008|   Seoul|  Dongdaemun-gu| TRUE|       Dongan Church|       17|37.592888|127.056766|\n",
      "|1000009|   Seoul|from other city| TRUE|Coupang Logistics...|       25|        -|         -|\n",
      "|1000010|   Seoul|      Gwanak-gu| TRUE|     Wangsung Church|       30|37.481735|126.930121|\n",
      "+-------+--------+---------------+-----+--------------------+---------+---------+----------+\n",
      "\n"
     ]
    }
   ],
   "source": [
    "df.limit(10).show()"
   ]
  },
  {
   "cell_type": "markdown",
   "metadata": {},
   "source": [
    "5.If you find the column name is not suitable, change the column name.[optional]"
   ]
  },
  {
   "cell_type": "code",
   "execution_count": 20,
   "metadata": {},
   "outputs": [
    {
     "name": "stdout",
     "output_type": "stream",
     "text": [
      "root\n",
      " |-- case_id: string (nullable = true)\n",
      " |-- province: string (nullable = true)\n",
      " |-- city: string (nullable = true)\n",
      " |-- Case_Type: string (nullable = true)\n",
      " |-- infection_case: string (nullable = true)\n",
      " |-- confirmed: string (nullable = true)\n",
      " |-- latitude: string (nullable = true)\n",
      " |-- longitude: string (nullable = true)\n",
      "\n"
     ]
    }
   ],
   "source": [
    "df.withColumnRenamed('group','Case_Type').printSchema()"
   ]
  },
  {
   "cell_type": "markdown",
   "metadata": {},
   "source": [
    "6.Select the subset of the columns."
   ]
  },
  {
   "cell_type": "code",
   "execution_count": 21,
   "metadata": {},
   "outputs": [
    {
     "name": "stdout",
     "output_type": "stream",
     "text": [
      "+-------+--------------------+\n",
      "|case_id|      infection_case|\n",
      "+-------+--------------------+\n",
      "|1000001|       Itaewon Clubs|\n",
      "|1000002|             Richway|\n",
      "|1000003| Guro-gu Call Center|\n",
      "|1000004|Yangcheon Table T...|\n",
      "|1000005|     Day Care Center|\n",
      "|1000006|Manmin Central Ch...|\n",
      "|1000007|SMR Newly Planted...|\n",
      "|1000008|       Dongan Church|\n",
      "|1000009|Coupang Logistics...|\n",
      "|1000010|     Wangsung Church|\n",
      "|1000011|Eunpyeong St. Mar...|\n",
      "|1000012|    Seongdong-gu APT|\n",
      "|1000013|Jongno Community ...|\n",
      "|1000014|Samsung Medical C...|\n",
      "|1000015|Jung-gu Fashion C...|\n",
      "|1000016|  Yeonana News Class|\n",
      "|1000017|Korea Campus Crus...|\n",
      "|1000018|Gangnam Yeoksam-d...|\n",
      "|1000019|Daejeon door-to-d...|\n",
      "|1000020|Geumcheon-gu rice...|\n",
      "+-------+--------------------+\n",
      "only showing top 20 rows\n",
      "\n"
     ]
    }
   ],
   "source": [
    "df.select('case_id','infection_case').show()"
   ]
  },
  {
   "cell_type": "markdown",
   "metadata": {},
   "source": [
    "7.If there is any null value, fill it with any random value or drop it."
   ]
  },
  {
   "cell_type": "code",
   "execution_count": 22,
   "metadata": {},
   "outputs": [
    {
     "name": "stdout",
     "output_type": "stream",
     "text": [
      "+-------+--------+----+-----+--------------+---------+--------+---------+\n",
      "|case_id|province|city|group|infection_case|confirmed|latitude|longitude|\n",
      "+-------+--------+----+-----+--------------+---------+--------+---------+\n",
      "+-------+--------+----+-----+--------------+---------+--------+---------+\n",
      "\n"
     ]
    }
   ],
   "source": [
    "from pyspark.sql.functions import *\n",
    "df.filter(col('latitude').isNull()).show()"
   ]
  },
  {
   "cell_type": "code",
   "execution_count": 23,
   "metadata": {},
   "outputs": [
    {
     "name": "stdout",
     "output_type": "stream",
     "text": [
      "+-------+--------+---------------+-----+--------------------+---------+---------+----------+\n",
      "|case_id|province|           city|group|      infection_case|confirmed| latitude| longitude|\n",
      "+-------+--------+---------------+-----+--------------------+---------+---------+----------+\n",
      "|1000001|   Seoul|     Yongsan-gu| TRUE|       Itaewon Clubs|      139|37.538621|126.992652|\n",
      "|1000002|   Seoul|      Gwanak-gu| TRUE|             Richway|      119| 37.48208|126.901384|\n",
      "|1000003|   Seoul|        Guro-gu| TRUE| Guro-gu Call Center|       95|37.508163|126.884387|\n",
      "|1000004|   Seoul|   Yangcheon-gu| TRUE|Yangcheon Table T...|       43|37.546061|126.874209|\n",
      "|1000005|   Seoul|      Dobong-gu| TRUE|     Day Care Center|       43|37.679422|127.044374|\n",
      "|1000006|   Seoul|        Guro-gu| TRUE|Manmin Central Ch...|       41|37.481059|126.894343|\n",
      "|1000007|   Seoul|from other city| TRUE|SMR Newly Planted...|       36|      0.0|         -|\n",
      "|1000008|   Seoul|  Dongdaemun-gu| TRUE|       Dongan Church|       17|37.592888|127.056766|\n",
      "|1000009|   Seoul|from other city| TRUE|Coupang Logistics...|       25|      0.0|         -|\n",
      "|1000010|   Seoul|      Gwanak-gu| TRUE|     Wangsung Church|       30|37.481735|126.930121|\n",
      "|1000011|   Seoul|   Eunpyeong-gu| TRUE|Eunpyeong St. Mar...|       14| 37.63369|  126.9165|\n",
      "|1000012|   Seoul|   Seongdong-gu| TRUE|    Seongdong-gu APT|       13| 37.55713|  127.0403|\n",
      "|1000013|   Seoul|      Jongno-gu| TRUE|Jongno Community ...|       10| 37.57681|   127.006|\n",
      "|1000014|   Seoul|     Gangnam-gu| TRUE|Samsung Medical C...|        7| 37.48825| 127.08559|\n",
      "|1000015|   Seoul|        Jung-gu| TRUE|Jung-gu Fashion C...|        7|37.562405|126.984377|\n",
      "|1000016|   Seoul|   Seodaemun-gu| TRUE|  Yeonana News Class|        5|37.558147|126.943799|\n",
      "|1000017|   Seoul|      Jongno-gu| TRUE|Korea Campus Crus...|        7|37.594782|126.968022|\n",
      "|1000018|   Seoul|     Gangnam-gu| TRUE|Gangnam Yeoksam-d...|        6|      0.0|         -|\n",
      "|1000019|   Seoul|from other city| TRUE|Daejeon door-to-d...|        1|      0.0|         -|\n",
      "|1000020|   Seoul|   Geumcheon-gu| TRUE|Geumcheon-gu rice...|        6|      0.0|         -|\n",
      "+-------+--------+---------------+-----+--------------------+---------+---------+----------+\n",
      "only showing top 20 rows\n",
      "\n"
     ]
    }
   ],
   "source": [
    "case=df.withColumn('latitude',regexp_replace('latitude','-','0.0'))\n",
    "case.show()"
   ]
  },
  {
   "cell_type": "markdown",
   "metadata": {},
   "source": [
    "8.Filter the data based on different columns or variables and do the best analysis."
   ]
  },
  {
   "cell_type": "code",
   "execution_count": 31,
   "metadata": {},
   "outputs": [
    {
     "name": "stdout",
     "output_type": "stream",
     "text": [
      "+-------+---------+--------------+--------+\n",
      "|case_id|     city|infection_case|province|\n",
      "+-------+---------+--------------+--------+\n",
      "|1000002|Gwanak-gu|       Richway|   Seoul|\n",
      "+-------+---------+--------------+--------+\n",
      "\n"
     ]
    }
   ],
   "source": [
    "df.filter((col('city') == 'Gwanak-gu') & (col('infection_case') == 'Richway'))\\\n",
    "    .select('case_id','city','infection_case','province')\\\n",
    "    .show()"
   ]
  },
  {
   "cell_type": "markdown",
   "metadata": {},
   "source": [
    "9.Sort the number of confirmed cases. Confirmed column is there in the dataset. Check with descending sort also."
   ]
  },
  {
   "cell_type": "code",
   "execution_count": 34,
   "metadata": {},
   "outputs": [
    {
     "name": "stdout",
     "output_type": "stream",
     "text": [
      "+-------+-----------------+---------------+-----+--------------------+---------+----------+-----------+\n",
      "|case_id|         province|           city|group|      infection_case|confirmed|  latitude|  longitude|\n",
      "+-------+-----------------+---------------+-----+--------------------+---------+----------+-----------+\n",
      "|1000003|            Seoul|        Guro-gu| TRUE| Guro-gu Call Center|       95| 37.508163| 126.884387|\n",
      "|1200009|            Daegu|              -|FALSE|contact with patient|      917|         -|          -|\n",
      "|1300002|          Gwangju|from other city| TRUE|  Shincheonji Church|        9|         -|          -|\n",
      "|4000002|Chungcheongbuk-do|from other city| TRUE|       Itaewon Clubs|        9|         -|          -|\n",
      "|4100003|Chungcheongnam-do|      Seosan-si| TRUE|Seosan-si Laboratory|        9| 37.000354| 126.354443|\n",
      "|6100003| Gyeongsangnam-do|       Jinju-si| TRUE|         Wings Tower|        9| 35.164845| 128.126969|\n",
      "|2000022|      Gyeonggi-do|              -|FALSE|                 etc|       84|         -|          -|\n",
      "|1000021|            Seoul|from other city| TRUE|  Shincheonji Church|        8|         -|          -|\n",
      "|1700002|           Sejong|         Sejong| TRUE|gym facility in S...|        8|  36.48025|    127.289|\n",
      "|4000006|Chungcheongbuk-do|              -|FALSE|contact with patient|        8|         -|          -|\n",
      "|6100004| Gyeongsangnam-do|   Geochang-gun| TRUE|Geochang-gun Woon...|        8| 35.805681| 127.917805|\n",
      "|1200010|            Daegu|              -|FALSE|                 etc|      747|         -|          -|\n",
      "|1000017|            Seoul|      Jongno-gu| TRUE|Korea Campus Crus...|        7| 37.594782| 126.968022|\n",
      "|1000015|            Seoul|        Jung-gu| TRUE|Jung-gu Fashion C...|        7| 37.562405| 126.984377|\n",
      "|1000014|            Seoul|     Gangnam-gu| TRUE|Samsung Medical C...|        7|  37.48825|  127.08559|\n",
      "|1500003|          Daejeon|         Seo-gu| TRUE|         Orange Town|        7|36.3398739|127.3819744|\n",
      "|1600004|            Ulsan|              -|FALSE|                 etc|        7|         -|          -|\n",
      "|2000015|      Gyeonggi-do|from other city| TRUE|Korea Campus Crus...|        7|         -|          -|\n",
      "|3000008|       Gangwon-do|              -|FALSE|                 etc|        7|         -|          -|\n",
      "|6100005| Gyeongsangnam-do|    Changwon-si| TRUE|Hanmaeum Changwon...|        7|  35.22115|   128.6866|\n",
      "+-------+-----------------+---------------+-----+--------------------+---------+----------+-----------+\n",
      "only showing top 20 rows\n",
      "\n"
     ]
    }
   ],
   "source": [
    "df.orderBy(col('confirmed').desc()).show()"
   ]
  },
  {
   "cell_type": "markdown",
   "metadata": {},
   "source": [
    "10.In case of any wrong data type, cast that data type from integer to string or string to integer."
   ]
  },
  {
   "cell_type": "code",
   "execution_count": 35,
   "metadata": {},
   "outputs": [
    {
     "name": "stdout",
     "output_type": "stream",
     "text": [
      "root\n",
      " |-- case_id: string (nullable = true)\n",
      " |-- province: string (nullable = true)\n",
      " |-- city: string (nullable = true)\n",
      " |-- group: string (nullable = true)\n",
      " |-- infection_case: string (nullable = true)\n",
      " |-- confirmed: string (nullable = true)\n",
      " |-- latitude: string (nullable = true)\n",
      " |-- longitude: string (nullable = true)\n",
      "\n"
     ]
    }
   ],
   "source": [
    "df.printSchema()"
   ]
  },
  {
   "cell_type": "code",
   "execution_count": 36,
   "metadata": {},
   "outputs": [
    {
     "name": "stdout",
     "output_type": "stream",
     "text": [
      "root\n",
      " |-- case_id: string (nullable = true)\n",
      " |-- province: string (nullable = true)\n",
      " |-- city: string (nullable = true)\n",
      " |-- group: string (nullable = true)\n",
      " |-- infection_case: string (nullable = true)\n",
      " |-- confirmed: integer (nullable = true)\n",
      " |-- latitude: string (nullable = true)\n",
      " |-- longitude: string (nullable = true)\n",
      "\n"
     ]
    }
   ],
   "source": [
    "df.withColumn('confirmed',df.confirmed.cast(\"Integer\")).printSchema()"
   ]
  },
  {
   "cell_type": "code",
   "execution_count": 37,
   "metadata": {},
   "outputs": [
    {
     "name": "stdout",
     "output_type": "stream",
     "text": [
      "+-------+-----------+---------------+-----+--------------------+---------+----------+-----------+\n",
      "|case_id|   province|           city|group|      infection_case|confirmed|  latitude|  longitude|\n",
      "+-------+-----------+---------------+-----+--------------------+---------+----------+-----------+\n",
      "|1000001|      Seoul|     Yongsan-gu| TRUE|       Itaewon Clubs|      139| 37.538621| 126.992652|\n",
      "|1000002|      Seoul|      Gwanak-gu| TRUE|             Richway|      119|  37.48208| 126.901384|\n",
      "|1000003|      Seoul|        Guro-gu| TRUE| Guro-gu Call Center|       95| 37.508163| 126.884387|\n",
      "|1000004|      Seoul|   Yangcheon-gu| TRUE|Yangcheon Table T...|       43| 37.546061| 126.874209|\n",
      "|1000005|      Seoul|      Dobong-gu| TRUE|     Day Care Center|       43| 37.679422| 127.044374|\n",
      "|1000006|      Seoul|        Guro-gu| TRUE|Manmin Central Ch...|       41| 37.481059| 126.894343|\n",
      "|1000007|      Seoul|from other city| TRUE|SMR Newly Planted...|       36|         -|          -|\n",
      "|1000008|      Seoul|  Dongdaemun-gu| TRUE|       Dongan Church|       17| 37.592888| 127.056766|\n",
      "|1000009|      Seoul|from other city| TRUE|Coupang Logistics...|       25|         -|          -|\n",
      "|1000010|      Seoul|      Gwanak-gu| TRUE|     Wangsung Church|       30| 37.481735| 126.930121|\n",
      "|1000011|      Seoul|   Eunpyeong-gu| TRUE|Eunpyeong St. Mar...|       14|  37.63369|   126.9165|\n",
      "|1000012|      Seoul|   Seongdong-gu| TRUE|    Seongdong-gu APT|       13|  37.55713|   127.0403|\n",
      "|1000013|      Seoul|      Jongno-gu| TRUE|Jongno Community ...|       10|  37.57681|    127.006|\n",
      "|1000014|      Seoul|     Gangnam-gu| TRUE|Samsung Medical C...|        7|  37.48825|  127.08559|\n",
      "|1000015|      Seoul|        Jung-gu| TRUE|Jung-gu Fashion C...|        7| 37.562405| 126.984377|\n",
      "|1000016|      Seoul|   Seodaemun-gu| TRUE|  Yeonana News Class|        5| 37.558147| 126.943799|\n",
      "|1000017|      Seoul|      Jongno-gu| TRUE|Korea Campus Crus...|        7| 37.594782| 126.968022|\n",
      "|1000018|      Seoul|     Gangnam-gu| TRUE|Gangnam Yeoksam-d...|        6|         -|          -|\n",
      "|1000019|      Seoul|from other city| TRUE|Daejeon door-to-d...|        1|         -|          -|\n",
      "|1000020|      Seoul|   Geumcheon-gu| TRUE|Geumcheon-gu rice...|        6|         -|          -|\n",
      "|1000021|      Seoul|from other city| TRUE|  Shincheonji Church|        8|         -|          -|\n",
      "|1000022|      Seoul|from other city| TRUE|Guri Collective I...|        5|         -|          -|\n",
      "|1000023|      Seoul|        Jung-gu| TRUE|   KB Life Insurance|       13| 37.560899| 126.966998|\n",
      "|1000024|      Seoul|Yeongdeungpo-gu| TRUE|Yeongdeungpo Lear...|        3| 37.520846| 126.931278|\n",
      "|1000025|      Seoul|     Gangnam-gu| TRUE|Gangnam Dongin Ch...|        1| 37.522331| 127.057388|\n",
      "|1000026|      Seoul|   Yangcheon-gu| TRUE|Biblical Language...|        3| 37.524623| 126.843118|\n",
      "|1000027|      Seoul|      Seocho-gu| TRUE|       Seocho Family|        5|         -|          -|\n",
      "|1000028|      Seoul|from other city| TRUE|Anyang Gunpo Past...|        1|         -|          -|\n",
      "|1000029|      Seoul|     Gangnam-gu| TRUE|Samsung Fire & Ma...|        4| 37.498279| 127.030139|\n",
      "|1000030|      Seoul|     Gangseo-gu| TRUE|SJ Investment Cal...|        0| 37.559649| 126.835102|\n",
      "|1000031|      Seoul|from other city| TRUE|     Yongin Brothers|        4|         -|          -|\n",
      "|1000032|      Seoul|        Jung-gu| TRUE|Seoul City Hall S...|        3| 37.565699| 126.977079|\n",
      "|1000033|      Seoul|from other city| TRUE|Uiwang Logistics ...|        2|         -|          -|\n",
      "|1000034|      Seoul|              -| TRUE|         Orange Life|        1|         -|          -|\n",
      "|1000035|      Seoul|        Guro-gu| TRUE|     Daezayeon Korea|        3| 37.486837| 126.893163|\n",
      "|1000036|      Seoul|              -|FALSE|     overseas inflow|      298|         -|          -|\n",
      "|1000037|      Seoul|              -|FALSE|contact with patient|      162|         -|          -|\n",
      "|1000038|      Seoul|              -|FALSE|                 etc|      100|         -|          -|\n",
      "|1100001|      Busan|     Dongnae-gu| TRUE|       Onchun Church|       39|  35.21628|   129.0771|\n",
      "|1100002|      Busan|from other city| TRUE|  Shincheonji Church|       12|         -|          -|\n",
      "|1100003|      Busan|     Suyeong-gu| TRUE|Suyeong-gu Kinder...|        5|  35.16708|   129.1124|\n",
      "|1100004|      Busan|    Haeundae-gu| TRUE|Haeundae-gu Catho...|        6|  35.20599|   129.1256|\n",
      "|1100005|      Busan|         Jin-gu| TRUE|      Jin-gu Academy|        4|  35.17371|   129.0633|\n",
      "|1100006|      Busan|from other city| TRUE|       Itaewon Clubs|        4|         -|          -|\n",
      "|1100007|      Busan|from other city| TRUE|Cheongdo Daenam H...|        1|         -|          -|\n",
      "|1100008|      Busan|              -|FALSE|     overseas inflow|       36|         -|          -|\n",
      "|1100009|      Busan|              -|FALSE|contact with patient|       19|         -|          -|\n",
      "|1100010|      Busan|              -|FALSE|                 etc|       30|         -|          -|\n",
      "|1200001|      Daegu|         Nam-gu| TRUE|  Shincheonji Church|     4511|  35.84008|   128.5667|\n",
      "|1200002|      Daegu|   Dalseong-gun| TRUE|Second Mi-Ju Hosp...|      196| 35.857375| 128.466651|\n",
      "|1200003|      Daegu|         Seo-gu| TRUE|Hansarang Convale...|      124| 35.885592| 128.556649|\n",
      "|1200004|      Daegu|   Dalseong-gun| TRUE|Daesil Convalesce...|      101| 35.857393| 128.466653|\n",
      "|1200005|      Daegu|        Dong-gu| TRUE|     Fatima Hospital|       39|  35.88395| 128.624059|\n",
      "|1200006|      Daegu|from other city| TRUE|       Itaewon Clubs|        2|         -|          -|\n",
      "|1200007|      Daegu|from other city| TRUE|Cheongdo Daenam H...|        2|         -|          -|\n",
      "|1200008|      Daegu|              -|FALSE|     overseas inflow|       41|         -|          -|\n",
      "|1200009|      Daegu|              -|FALSE|contact with patient|      917|         -|          -|\n",
      "|1200010|      Daegu|              -|FALSE|                 etc|      747|         -|          -|\n",
      "|1300001|    Gwangju|        Dong-gu| TRUE|  Gwangneuksa Temple|        5| 35.136035| 126.956405|\n",
      "|1300002|    Gwangju|from other city| TRUE|  Shincheonji Church|        9|         -|          -|\n",
      "|1300003|    Gwangju|              -|FALSE|     overseas inflow|       23|         -|          -|\n",
      "|1300004|    Gwangju|              -|FALSE|contact with patient|        5|         -|          -|\n",
      "|1300005|    Gwangju|              -|FALSE|                 etc|        1|         -|          -|\n",
      "|1400001|    Incheon|from other city| TRUE|       Itaewon Clubs|       53|         -|          -|\n",
      "|1400002|    Incheon|from other city| TRUE|Coupang Logistics...|       42|         -|          -|\n",
      "|1400003|    Incheon|from other city| TRUE| Guro-gu Call Center|       20|         -|          -|\n",
      "|1400004|    Incheon|from other city| TRUE|  Shincheonji Church|        2|         -|          -|\n",
      "|1400005|    Incheon|              -|FALSE|     overseas inflow|       68|         -|          -|\n",
      "|1400006|    Incheon|              -|FALSE|contact with patient|        6|         -|          -|\n",
      "|1400007|    Incheon|              -|FALSE|                 etc|       11|         -|          -|\n",
      "|1500001|    Daejeon|              -| TRUE|Door-to-door sale...|       55|         -|          -|\n",
      "|1500002|    Daejeon|         Seo-gu| TRUE|Dunsan Electronic...|       13|36.3400973|127.3927099|\n",
      "|1500003|    Daejeon|         Seo-gu| TRUE|         Orange Town|        7|36.3398739|127.3819744|\n",
      "|1500004|    Daejeon|         Seo-gu| TRUE|     Dreaming Church|        4| 36.346869| 127.368594|\n",
      "|1500005|    Daejeon|         Seo-gu| TRUE|Korea Forest Engi...|        3| 36.358123| 127.388856|\n",
      "|1500006|    Daejeon|from other city| TRUE|  Shincheonji Church|        2|         -|          -|\n",
      "|1500007|    Daejeon|from other city| TRUE|Seosan-si Laboratory|        2|         -|          -|\n",
      "|1500008|    Daejeon|              -|FALSE|     overseas inflow|       15|         -|          -|\n",
      "|1500009|    Daejeon|              -|FALSE|contact with patient|       15|         -|          -|\n",
      "|1500010|    Daejeon|              -|FALSE|                 etc|       15|         -|          -|\n",
      "|1600001|      Ulsan|from other city| TRUE|  Shincheonji Church|       16|         -|          -|\n",
      "|1600002|      Ulsan|              -|FALSE|     overseas inflow|       25|         -|          -|\n",
      "|1600003|      Ulsan|              -|FALSE|contact with patient|        3|         -|          -|\n",
      "|1600004|      Ulsan|              -|FALSE|                 etc|        7|         -|          -|\n",
      "|1700001|     Sejong|         Sejong| TRUE|Ministry of Ocean...|       31| 36.504713| 127.265172|\n",
      "|1700002|     Sejong|         Sejong| TRUE|gym facility in S...|        8|  36.48025|    127.289|\n",
      "|1700003|     Sejong|from other city| TRUE|  Shincheonji Church|        1|         -|          -|\n",
      "|1700004|     Sejong|              -|FALSE|     overseas inflow|        5|         -|          -|\n",
      "|1700005|     Sejong|              -|FALSE|contact with patient|        3|         -|          -|\n",
      "|1700006|     Sejong|              -|FALSE|                 etc|        1|         -|          -|\n",
      "|2000001|Gyeonggi-do|    Seongnam-si| TRUE|River of Grace Co...|       67| 37.455687| 127.161627|\n",
      "|2000002|Gyeonggi-do|     Bucheon-si| TRUE|Coupang Logistics...|       67| 37.530579| 126.775254|\n",
      "|2000003|Gyeonggi-do|from other city| TRUE|       Itaewon Clubs|       59|         -|          -|\n",
      "|2000004|Gyeonggi-do|from other city| TRUE|             Richway|       58|         -|          -|\n",
      "|2000005|Gyeonggi-do|   Uijeongbu-si| TRUE|Uijeongbu St. Mar...|       50| 37.758635| 127.077716|\n",
      "|2000006|Gyeonggi-do|from other city| TRUE| Guro-gu Call Center|       50|         -|          -|\n",
      "|2000007|Gyeonggi-do|from other city| TRUE|  Shincheonji Church|       29|         -|          -|\n",
      "|2000008|Gyeonggi-do|from other city| TRUE|Yangcheon Table T...|       28|         -|          -|\n",
      "|2000009|Gyeonggi-do|              -| TRUE|SMR Newly Planted...|       25|         -|          -|\n",
      "|2000010|Gyeonggi-do|    Seongnam-si| TRUE|Bundang Jesaeng H...|       22|  37.38833|   127.1218|\n",
      "+-------+-----------+---------------+-----+--------------------+---------+----------+-----------+\n",
      "only showing top 100 rows\n",
      "\n"
     ]
    }
   ],
   "source": [
    "df.show(100)"
   ]
  },
  {
   "cell_type": "markdown",
   "metadata": {},
   "source": [
    "11.Use group by on top of province and city column and agg it with sum of confirmed cases."
   ]
  },
  {
   "cell_type": "code",
   "execution_count": 39,
   "metadata": {},
   "outputs": [
    {
     "name": "stdout",
     "output_type": "stream",
     "text": [
      "+-----------------+---------------+-------------+\n",
      "|         province|           city|confirmed_sum|\n",
      "+-----------------+---------------+-------------+\n",
      "| Gyeongsangnam-do|       Jinju-si|          9.0|\n",
      "|            Seoul|        Guro-gu|        139.0|\n",
      "|            Seoul|     Gangnam-gu|         18.0|\n",
      "|          Daejeon|              -|        100.0|\n",
      "|     Jeollabuk-do|from other city|          6.0|\n",
      "| Gyeongsangnam-do|Changnyeong-gun|          7.0|\n",
      "|            Seoul|              -|        561.0|\n",
      "|          Jeju-do|from other city|          1.0|\n",
      "| Gyeongsangbuk-do|              -|        345.0|\n",
      "| Gyeongsangnam-do|   Geochang-gun|         18.0|\n",
      "| Gyeongsangbuk-do|        Gumi-si|         10.0|\n",
      "|          Incheon|from other city|        117.0|\n",
      "|            Busan|              -|         85.0|\n",
      "|            Daegu|         Seo-gu|        124.0|\n",
      "|            Busan|     Suyeong-gu|          5.0|\n",
      "|      Gyeonggi-do|   Uijeongbu-si|         50.0|\n",
      "|            Seoul|     Yongsan-gu|        139.0|\n",
      "|            Daegu|              -|       1705.0|\n",
      "|            Seoul|   Seodaemun-gu|          5.0|\n",
      "|      Gyeonggi-do|    Seongnam-si|         94.0|\n",
      "|      Gyeonggi-do|     Bucheon-si|         67.0|\n",
      "| Gyeongsangnam-do|from other city|         36.0|\n",
      "|      Gyeonggi-do|       Suwon-si|         25.0|\n",
      "|          Daejeon|from other city|          4.0|\n",
      "|Chungcheongbuk-do|from other city|         17.0|\n",
      "|            Seoul|from other city|         82.0|\n",
      "| Gyeongsangbuk-do|    Bonghwa-gun|         68.0|\n",
      "|Chungcheongnam-do|     Cheonan-si|        103.0|\n",
      "|     Jeollabuk-do|              -|         17.0|\n",
      "|            Seoul|      Jongno-gu|         17.0|\n",
      "|          Incheon|              -|         85.0|\n",
      "|      Gyeonggi-do|from other city|        248.0|\n",
      "|           Sejong|         Sejong|         39.0|\n",
      "|            Seoul|      Dobong-gu|         43.0|\n",
      "|          Gwangju|from other city|          9.0|\n",
      "|           Sejong|              -|          9.0|\n",
      "|          Gwangju|        Dong-gu|          5.0|\n",
      "|Chungcheongnam-do|              -|         30.0|\n",
      "|            Seoul|  Dongdaemun-gu|         17.0|\n",
      "|            Daegu|   Dalseong-gun|        297.0|\n",
      "|Chungcheongbuk-do|     Goesan-gun|         11.0|\n",
      "|            Seoul|   Yangcheon-gu|         46.0|\n",
      "|            Seoul|      Gwanak-gu|        149.0|\n",
      "|       Gangwon-do|       Wonju-si|          4.0|\n",
      "|            Busan|from other city|         17.0|\n",
      "|            Ulsan|              -|         35.0|\n",
      "|     Jeollanam-do|from other city|          1.0|\n",
      "|Chungcheongnam-do|      Seosan-si|          9.0|\n",
      "|          Gwangju|              -|         29.0|\n",
      "|       Gangwon-do|from other city|         35.0|\n",
      "| Gyeongsangbuk-do|    Chilgok-gun|         36.0|\n",
      "|            Busan|    Haeundae-gu|          6.0|\n",
      "|           Sejong|from other city|          1.0|\n",
      "|     Jeollanam-do|              -|         22.0|\n",
      "| Gyeongsangnam-do|              -|         52.0|\n",
      "| Gyeongsangbuk-do|   Cheongdo-gun|        119.0|\n",
      "|            Daegu|         Nam-gu|       4511.0|\n",
      "|          Daejeon|         Seo-gu|         27.0|\n",
      "|            Busan|     Dongnae-gu|         39.0|\n",
      "| Gyeongsangbuk-do|from other city|        607.0|\n",
      "|            Daegu|        Dong-gu|         39.0|\n",
      "| Gyeongsangnam-do|    Changwon-si|          7.0|\n",
      "| Gyeongsangnam-do|     Yangsan-si|          3.0|\n",
      "|Chungcheongbuk-do|              -|         32.0|\n",
      "|            Busan|         Jin-gu|          4.0|\n",
      "|      Gyeonggi-do|      Anyang-si|         39.0|\n",
      "|       Gangwon-do|              -|         23.0|\n",
      "|            Seoul|      Seocho-gu|          5.0|\n",
      "|            Seoul|   Seongdong-gu|         13.0|\n",
      "|            Seoul|        Jung-gu|         23.0|\n",
      "|      Gyeonggi-do|              -|        477.0|\n",
      "|            Ulsan|from other city|         16.0|\n",
      "| Gyeongsangbuk-do|     Yechun-gun|         40.0|\n",
      "|            Seoul|     Gangseo-gu|          0.0|\n",
      "|Chungcheongnam-do|from other city|         16.0|\n",
      "|          Jeju-do|              -|         18.0|\n",
      "|            Daegu|from other city|          4.0|\n",
      "|     Jeollanam-do|       Muan-gun|          2.0|\n",
      "|            Seoul|   Eunpyeong-gu|         14.0|\n",
      "|            Seoul|Yeongdeungpo-gu|          3.0|\n",
      "|            Seoul|   Geumcheon-gu|          6.0|\n",
      "| Gyeongsangbuk-do|   Gyeongsan-si|         99.0|\n",
      "+-----------------+---------------+-------------+\n",
      "\n"
     ]
    }
   ],
   "source": [
    "df.groupBy([\"province\",\"city\"]).agg(sum(\"confirmed\").alias(\"confirmed_sum\")).show(100)"
   ]
  },
  {
   "cell_type": "markdown",
   "metadata": {},
   "source": [
    "12.If you want, you can also use SQL with data frames. Let us try to run some SQL on the cases table."
   ]
  },
  {
   "cell_type": "code",
   "execution_count": 10,
   "metadata": {},
   "outputs": [
    {
     "name": "stderr",
     "output_type": "stream",
     "text": [
      "C:\\Users\\kirub\\AppData\\Roaming\\Python\\Python311\\site-packages\\pyspark\\sql\\dataframe.py:330: FutureWarning: Deprecated in 2.0, use createOrReplaceTempView instead.\n",
      "  warnings.warn(\"Deprecated in 2.0, use createOrReplaceTempView instead.\", FutureWarning)\n"
     ]
    },
    {
     "name": "stdout",
     "output_type": "stream",
     "text": [
      "+-------+-----------------+---------------+-----+--------------------+---------+---------+----------+\n",
      "|case_id|         province|           city|group|      infection_case|confirmed| latitude| longitude|\n",
      "+-------+-----------------+---------------+-----+--------------------+---------+---------+----------+\n",
      "|1000001|            Seoul|     Yongsan-gu| TRUE|       Itaewon Clubs|      139|37.538621|126.992652|\n",
      "|1000002|            Seoul|      Gwanak-gu| TRUE|             Richway|      119| 37.48208|126.901384|\n",
      "|1000036|            Seoul|              -|FALSE|     overseas inflow|      298|        -|         -|\n",
      "|1000037|            Seoul|              -|FALSE|contact with patient|      162|        -|         -|\n",
      "|1200001|            Daegu|         Nam-gu| TRUE|  Shincheonji Church|     4511| 35.84008|  128.5667|\n",
      "|1200002|            Daegu|   Dalseong-gun| TRUE|Second Mi-Ju Hosp...|      196|35.857375|128.466651|\n",
      "|1200003|            Daegu|         Seo-gu| TRUE|Hansarang Convale...|      124|35.885592|128.556649|\n",
      "|1200004|            Daegu|   Dalseong-gun| TRUE|Daesil Convalesce...|      101|35.857393|128.466653|\n",
      "|1200009|            Daegu|              -|FALSE|contact with patient|      917|        -|         -|\n",
      "|1200010|            Daegu|              -|FALSE|                 etc|      747|        -|         -|\n",
      "|2000020|      Gyeonggi-do|              -|FALSE|     overseas inflow|      305|        -|         -|\n",
      "|4100001|Chungcheongnam-do|     Cheonan-si| TRUE|gym facility in C...|      103| 36.81503|  127.1139|\n",
      "|6000001| Gyeongsangbuk-do|from other city| TRUE|  Shincheonji Church|      566|        -|         -|\n",
      "|6000002| Gyeongsangbuk-do|   Cheongdo-gun| TRUE|Cheongdo Daenam H...|      119| 35.64887|  128.7368|\n",
      "|6000012| Gyeongsangbuk-do|              -|FALSE|contact with patient|      190|        -|         -|\n",
      "|6000013| Gyeongsangbuk-do|              -|FALSE|                 etc|      133|        -|         -|\n",
      "+-------+-----------------+---------------+-----+--------------------+---------+---------+----------+\n",
      "\n"
     ]
    }
   ],
   "source": [
    "df.registerTempTable('Case')\n",
    "newDF=spark.sql('select * from Case where Confirmed>100')\n",
    "newDF.show()"
   ]
  },
  {
   "cell_type": "markdown",
   "metadata": {},
   "source": [
    "13.Create Spark UDFs Create function casehighlow()"
   ]
  },
  {
   "cell_type": "code",
   "execution_count": 13,
   "metadata": {},
   "outputs": [],
   "source": [
    "def casehighlow(cases):\n",
    "    if case < 50:\n",
    "        return 'Low'\n",
    "    elif case > 50 and case<=500:\n",
    "        return 'Medium'\n",
    "    else:\n",
    "        return 'High'"
   ]
  }
 ],
 "metadata": {
  "kernelspec": {
   "display_name": "Python 3",
   "language": "python",
   "name": "python3"
  },
  "language_info": {
   "codemirror_mode": {
    "name": "ipython",
    "version": 3
   },
   "file_extension": ".py",
   "mimetype": "text/x-python",
   "name": "python",
   "nbconvert_exporter": "python",
   "pygments_lexer": "ipython3",
   "version": "3.11.4"
  },
  "orig_nbformat": 4
 },
 "nbformat": 4,
 "nbformat_minor": 2
}
